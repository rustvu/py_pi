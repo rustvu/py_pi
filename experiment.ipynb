{
 "cells": [
  {
   "cell_type": "markdown",
   "id": "e07206cf-5702-4232-a0f7-72fd1ca138a9",
   "metadata": {},
   "source": [
    "# Rust vs Python - Monte-Carlo π\n",
    "\n",
    "Pay attention to `Wall time`"
   ]
  },
  {
   "cell_type": "markdown",
   "id": "2f9a0328-256f-4b94-a210-b80e0bee73cc",
   "metadata": {},
   "source": [
    "## Setup"
   ]
  },
  {
   "cell_type": "code",
   "execution_count": 6,
   "id": "5268037e-58a4-41b5-88bc-c04892a0f323",
   "metadata": {},
   "outputs": [],
   "source": [
    "from random import random\n",
    "\n",
    "import numpy as np\n",
    "import py_pi\n",
    "\n",
    "N = 10_000_000"
   ]
  },
  {
   "cell_type": "markdown",
   "id": "1e82d1b5-b9f8-4372-a94a-6f043a4e32c3",
   "metadata": {},
   "source": [
    "## Python - Naïve"
   ]
  },
  {
   "cell_type": "code",
   "execution_count": 7,
   "id": "8edbf95d-8601-4c09-a2b2-e8fc826ac059",
   "metadata": {},
   "outputs": [
    {
     "name": "stdout",
     "output_type": "stream",
     "text": [
      "CPU times: user 1.2 s, sys: 44.1 ms, total: 1.25 s\n",
      "Wall time: 1.26 s\n"
     ]
    },
    {
     "data": {
      "text/plain": [
       "3.1413276"
      ]
     },
     "execution_count": 7,
     "metadata": {},
     "output_type": "execute_result"
    }
   ],
   "source": [
    "%%time\n",
    "4 * sum([random()**2 + random()**2 < 1.0 for _ in range(N)]) / N"
   ]
  },
  {
   "cell_type": "markdown",
   "id": "3d722cf1-914e-4e2a-a201-e221062feaa8",
   "metadata": {},
   "source": [
    "## Python - Numpy"
   ]
  },
  {
   "cell_type": "code",
   "execution_count": 8,
   "id": "a81b2fdb-d8be-4345-a789-c4f7f769ccff",
   "metadata": {},
   "outputs": [
    {
     "name": "stdout",
     "output_type": "stream",
     "text": [
      "CPU times: user 155 ms, sys: 22.7 ms, total: 178 ms\n",
      "Wall time: 175 ms\n"
     ]
    },
    {
     "data": {
      "text/plain": [
       "np.float64(3.1417932)"
      ]
     },
     "execution_count": 8,
     "metadata": {},
     "output_type": "execute_result"
    }
   ],
   "source": [
    "%%time\n",
    "4 * ((np.random.rand(N, 2)**2).sum(axis=1) < 1.0).mean()"
   ]
  },
  {
   "cell_type": "markdown",
   "id": "4945010c-4eaf-4d5c-a648-cbaf81967ef0",
   "metadata": {},
   "source": [
    "## Rust - Single"
   ]
  },
  {
   "cell_type": "code",
   "execution_count": 9,
   "id": "2654a225-24af-4273-b5c5-dfe5210b2dd7",
   "metadata": {},
   "outputs": [
    {
     "name": "stdout",
     "output_type": "stream",
     "text": [
      "CPU times: user 245 ms, sys: 7.4 ms, total: 252 ms\n",
      "Wall time: 252 ms\n"
     ]
    },
    {
     "data": {
      "text/plain": [
       "3.142094"
      ]
     },
     "execution_count": 9,
     "metadata": {},
     "output_type": "execute_result"
    }
   ],
   "source": [
    "%%time\n",
    "py_pi.single(N)"
   ]
  },
  {
   "cell_type": "markdown",
   "id": "6a525de1-b533-4446-b681-2e98f6961c36",
   "metadata": {},
   "source": [
    "## Rust - Parallel"
   ]
  },
  {
   "cell_type": "code",
   "execution_count": 10,
   "id": "bb879c1a-5d60-478b-ae7f-2f99b2a9c315",
   "metadata": {},
   "outputs": [
    {
     "name": "stdout",
     "output_type": "stream",
     "text": [
      "CPU times: user 393 ms, sys: 10.2 ms, total: 403 ms\n",
      "Wall time: 52.4 ms\n"
     ]
    },
    {
     "data": {
      "text/plain": [
       "3.1418912"
      ]
     },
     "execution_count": 10,
     "metadata": {},
     "output_type": "execute_result"
    }
   ],
   "source": [
    "%%time\n",
    "py_pi.parallel(N)"
   ]
  },
  {
   "cell_type": "markdown",
   "id": "42cd5512-97bb-4538-936c-ab938a4b693c",
   "metadata": {},
   "source": [
    "# Boo-yah !!!"
   ]
  },
  {
   "cell_type": "code",
   "execution_count": null,
   "id": "760aa86c-ab88-4152-a95a-5e65d089b744",
   "metadata": {},
   "outputs": [],
   "source": []
  }
 ],
 "metadata": {
  "kernelspec": {
   "display_name": "Python 3 (ipykernel)",
   "language": "python",
   "name": "python3"
  },
  "language_info": {
   "codemirror_mode": {
    "name": "ipython",
    "version": 3
   },
   "file_extension": ".py",
   "mimetype": "text/x-python",
   "name": "python",
   "nbconvert_exporter": "python",
   "pygments_lexer": "ipython3",
   "version": "3.13.0"
  }
 },
 "nbformat": 4,
 "nbformat_minor": 5
}
